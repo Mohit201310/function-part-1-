{
 "cells": [
  {
   "cell_type": "code",
   "execution_count": 26,
   "id": "4830f263",
   "metadata": {},
   "outputs": [],
   "source": [
    "a = \"mohi\""
   ]
  },
  {
   "cell_type": "code",
   "execution_count": 27,
   "id": "0ffc5042",
   "metadata": {},
   "outputs": [
    {
     "data": {
      "text/plain": [
       "4"
      ]
     },
     "execution_count": 27,
     "metadata": {},
     "output_type": "execute_result"
    }
   ],
   "source": [
    "len(a)"
   ]
  },
  {
   "cell_type": "code",
   "execution_count": 28,
   "id": "830acfdc",
   "metadata": {},
   "outputs": [],
   "source": [
    "l = [2,3,4,5,\"mohi\",4.67]"
   ]
  },
  {
   "cell_type": "code",
   "execution_count": 29,
   "id": "bc473d82",
   "metadata": {},
   "outputs": [
    {
     "data": {
      "text/plain": [
       "6"
      ]
     },
     "execution_count": 29,
     "metadata": {},
     "output_type": "execute_result"
    }
   ],
   "source": [
    "len(l)"
   ]
  },
  {
   "cell_type": "code",
   "execution_count": 30,
   "id": "281b8529",
   "metadata": {},
   "outputs": [],
   "source": [
    "def test():\n",
    "    pass"
   ]
  },
  {
   "cell_type": "code",
   "execution_count": 31,
   "id": "fd5b3360",
   "metadata": {},
   "outputs": [],
   "source": [
    "def test1():\n",
    "    print(\"this is my very first function in python\")"
   ]
  },
  {
   "cell_type": "code",
   "execution_count": 32,
   "id": "54f7dad2",
   "metadata": {},
   "outputs": [
    {
     "name": "stdout",
     "output_type": "stream",
     "text": [
      "this is my very first function in python\n"
     ]
    }
   ],
   "source": [
    "test1()"
   ]
  },
  {
   "cell_type": "code",
   "execution_count": 33,
   "id": "13c5e28f",
   "metadata": {},
   "outputs": [],
   "source": [
    "a = 1"
   ]
  },
  {
   "cell_type": "code",
   "execution_count": 34,
   "id": "df756e3e",
   "metadata": {},
   "outputs": [
    {
     "name": "stdout",
     "output_type": "stream",
     "text": [
      "this is my very first function in python\n"
     ]
    }
   ],
   "source": [
    "b = test1()"
   ]
  },
  {
   "cell_type": "code",
   "execution_count": 35,
   "id": "13d8121e",
   "metadata": {},
   "outputs": [],
   "source": [
    "b"
   ]
  },
  {
   "cell_type": "code",
   "execution_count": 36,
   "id": "175351f8",
   "metadata": {},
   "outputs": [
    {
     "data": {
      "text/plain": [
       "NoneType"
      ]
     },
     "execution_count": 36,
     "metadata": {},
     "output_type": "execute_result"
    }
   ],
   "source": [
    "type(b)"
   ]
  },
  {
   "cell_type": "code",
   "execution_count": 37,
   "id": "df65a856",
   "metadata": {},
   "outputs": [
    {
     "name": "stdout",
     "output_type": "stream",
     "text": [
      "None\n"
     ]
    }
   ],
   "source": [
    "print(b)"
   ]
  },
  {
   "cell_type": "code",
   "execution_count": 38,
   "id": "c41671fc",
   "metadata": {},
   "outputs": [],
   "source": [
    "c = \"yadav\""
   ]
  },
  {
   "cell_type": "code",
   "execution_count": 39,
   "id": "a716f494",
   "metadata": {},
   "outputs": [
    {
     "data": {
      "text/plain": [
       "str"
      ]
     },
     "execution_count": 39,
     "metadata": {},
     "output_type": "execute_result"
    }
   ],
   "source": [
    "type(c)"
   ]
  },
  {
   "cell_type": "code",
   "execution_count": 40,
   "id": "829a1f73",
   "metadata": {},
   "outputs": [
    {
     "name": "stdout",
     "output_type": "stream",
     "text": [
      "this is my very first function in python\n"
     ]
    },
    {
     "data": {
      "text/plain": [
       "NoneType"
      ]
     },
     "execution_count": 40,
     "metadata": {},
     "output_type": "execute_result"
    }
   ],
   "source": [
    "type(test1())"
   ]
  },
  {
   "cell_type": "code",
   "execution_count": 41,
   "id": "9c490eea",
   "metadata": {},
   "outputs": [],
   "source": [
    "def test2():\n",
    "    return 5"
   ]
  },
  {
   "cell_type": "code",
   "execution_count": 42,
   "id": "03732c1d",
   "metadata": {},
   "outputs": [
    {
     "data": {
      "text/plain": [
       "5"
      ]
     },
     "execution_count": 42,
     "metadata": {},
     "output_type": "execute_result"
    }
   ],
   "source": [
    "test2()"
   ]
  },
  {
   "cell_type": "code",
   "execution_count": 43,
   "id": "8d89d9d4",
   "metadata": {},
   "outputs": [],
   "source": [
    "d = test2()"
   ]
  },
  {
   "cell_type": "code",
   "execution_count": 44,
   "id": "434bd24d",
   "metadata": {},
   "outputs": [
    {
     "data": {
      "text/plain": [
       "5"
      ]
     },
     "execution_count": 44,
     "metadata": {},
     "output_type": "execute_result"
    }
   ],
   "source": [
    "d"
   ]
  },
  {
   "cell_type": "code",
   "execution_count": 45,
   "id": "bf4d5a5f",
   "metadata": {},
   "outputs": [
    {
     "name": "stdout",
     "output_type": "stream",
     "text": [
      "this \n"
     ]
    },
    {
     "data": {
      "text/plain": [
       "NoneType"
      ]
     },
     "execution_count": 45,
     "metadata": {},
     "output_type": "execute_result"
    }
   ],
   "source": [
    "type(print(\"this \"))"
   ]
  },
  {
   "cell_type": "code",
   "execution_count": 46,
   "id": "6ce7aed4",
   "metadata": {},
   "outputs": [],
   "source": [
    "def test3():\n",
    "    return 5"
   ]
  },
  {
   "cell_type": "code",
   "execution_count": 47,
   "id": "f76a4883",
   "metadata": {},
   "outputs": [],
   "source": [
    "def test4():\n",
    "    print(\"this is my print return\")"
   ]
  },
  {
   "cell_type": "code",
   "execution_count": 48,
   "id": "2a48e467",
   "metadata": {},
   "outputs": [
    {
     "data": {
      "text/plain": [
       "5"
      ]
     },
     "execution_count": 48,
     "metadata": {},
     "output_type": "execute_result"
    }
   ],
   "source": [
    "test3()"
   ]
  },
  {
   "cell_type": "code",
   "execution_count": 49,
   "id": "ca03d1cf",
   "metadata": {},
   "outputs": [
    {
     "name": "stdout",
     "output_type": "stream",
     "text": [
      "this is my print return\n"
     ]
    }
   ],
   "source": [
    "e = test4()"
   ]
  },
  {
   "cell_type": "code",
   "execution_count": 50,
   "id": "889cb375",
   "metadata": {},
   "outputs": [
    {
     "ename": "TypeError",
     "evalue": "unsupported operand type(s) for +: 'NoneType' and 'str'",
     "output_type": "error",
     "traceback": [
      "\u001b[0;31m---------------------------------------------------------------------------\u001b[0m",
      "\u001b[0;31mTypeError\u001b[0m                                 Traceback (most recent call last)",
      "Cell \u001b[0;32mIn [50], line 1\u001b[0m\n\u001b[0;32m----> 1\u001b[0m \u001b[43me\u001b[49m\u001b[43m \u001b[49m\u001b[38;5;241;43m+\u001b[39;49m\u001b[43m \u001b[49m\u001b[38;5;124;43m\"\u001b[39;49m\u001b[38;5;124;43mmohi\u001b[39;49m\u001b[38;5;124;43m\"\u001b[39;49m\n",
      "\u001b[0;31mTypeError\u001b[0m: unsupported operand type(s) for +: 'NoneType' and 'str'"
     ]
    }
   ],
   "source": [
    "e + \"mohi\""
   ]
  },
  {
   "cell_type": "code",
   "execution_count": 51,
   "id": "9c5d8904",
   "metadata": {},
   "outputs": [],
   "source": [
    "def test3():\n",
    "    return \"mohi\""
   ]
  },
  {
   "cell_type": "code",
   "execution_count": 52,
   "id": "10bed9c6",
   "metadata": {},
   "outputs": [
    {
     "data": {
      "text/plain": [
       "'mohiyadav'"
      ]
     },
     "execution_count": 52,
     "metadata": {},
     "output_type": "execute_result"
    }
   ],
   "source": [
    "test3() + \"yadav\""
   ]
  },
  {
   "cell_type": "code",
   "execution_count": 53,
   "id": "f5c4e804",
   "metadata": {},
   "outputs": [
    {
     "name": "stdout",
     "output_type": "stream",
     "text": [
      "this is my print return\n"
     ]
    },
    {
     "ename": "TypeError",
     "evalue": "unsupported operand type(s) for +: 'NoneType' and 'str'",
     "output_type": "error",
     "traceback": [
      "\u001b[0;31m---------------------------------------------------------------------------\u001b[0m",
      "\u001b[0;31mTypeError\u001b[0m                                 Traceback (most recent call last)",
      "Cell \u001b[0;32mIn [53], line 1\u001b[0m\n\u001b[0;32m----> 1\u001b[0m \u001b[43mtest4\u001b[49m\u001b[43m(\u001b[49m\u001b[43m)\u001b[49m\u001b[43m \u001b[49m\u001b[38;5;241;43m+\u001b[39;49m\u001b[43m \u001b[49m\u001b[38;5;124;43m\"\u001b[39;49m\u001b[38;5;124;43myadav\u001b[39;49m\u001b[38;5;124;43m\"\u001b[39;49m\n",
      "\u001b[0;31mTypeError\u001b[0m: unsupported operand type(s) for +: 'NoneType' and 'str'"
     ]
    }
   ],
   "source": [
    "test4() + \"yadav\""
   ]
  },
  {
   "cell_type": "code",
   "execution_count": 54,
   "id": "1fdc84fe",
   "metadata": {},
   "outputs": [],
   "source": [
    "def test5():\n",
    "    print(\"this is my python code\")"
   ]
  },
  {
   "cell_type": "code",
   "execution_count": 55,
   "id": "256518b8",
   "metadata": {},
   "outputs": [],
   "source": [
    "def test6():\n",
    "    return  1,3,[3,4,5,\"mohi\"],(3,4,5,6)"
   ]
  },
  {
   "cell_type": "code",
   "execution_count": 56,
   "id": "8fe809c5",
   "metadata": {},
   "outputs": [
    {
     "data": {
      "text/plain": [
       "(1, 3, [3, 4, 5, 'mohi'], (3, 4, 5, 6))"
      ]
     },
     "execution_count": 56,
     "metadata": {},
     "output_type": "execute_result"
    }
   ],
   "source": [
    "test6()"
   ]
  },
  {
   "cell_type": "code",
   "execution_count": 57,
   "id": "8cc39da4",
   "metadata": {},
   "outputs": [
    {
     "data": {
      "text/plain": [
       "tuple"
      ]
     },
     "execution_count": 57,
     "metadata": {},
     "output_type": "execute_result"
    }
   ],
   "source": [
    "type(test6())"
   ]
  },
  {
   "cell_type": "code",
   "execution_count": 58,
   "id": "60e19e79",
   "metadata": {},
   "outputs": [
    {
     "data": {
      "text/plain": [
       "3"
      ]
     },
     "execution_count": 58,
     "metadata": {},
     "output_type": "execute_result"
    }
   ],
   "source": [
    "test6()[1]"
   ]
  },
  {
   "cell_type": "code",
   "execution_count": 59,
   "id": "0e571f35",
   "metadata": {},
   "outputs": [
    {
     "data": {
      "text/plain": [
       "[3, 4, 5, 'mohi']"
      ]
     },
     "execution_count": 59,
     "metadata": {},
     "output_type": "execute_result"
    }
   ],
   "source": [
    "test6()[2]"
   ]
  },
  {
   "cell_type": "code",
   "execution_count": 60,
   "id": "f3a0a094",
   "metadata": {},
   "outputs": [],
   "source": [
    "def test7():\n",
    "    return 1,3,[3,4,5,\"mohi\"],(3,4,5,6)"
   ]
  },
  {
   "cell_type": "code",
   "execution_count": 61,
   "id": "81aab7fc",
   "metadata": {},
   "outputs": [],
   "source": [
    "a,b,c,d = test7()"
   ]
  },
  {
   "cell_type": "code",
   "execution_count": 62,
   "id": "3c6703d6",
   "metadata": {},
   "outputs": [
    {
     "data": {
      "text/plain": [
       "1"
      ]
     },
     "execution_count": 62,
     "metadata": {},
     "output_type": "execute_result"
    }
   ],
   "source": [
    "a"
   ]
  },
  {
   "cell_type": "code",
   "execution_count": 63,
   "id": "83ab7b9f",
   "metadata": {},
   "outputs": [
    {
     "data": {
      "text/plain": [
       "3"
      ]
     },
     "execution_count": 63,
     "metadata": {},
     "output_type": "execute_result"
    }
   ],
   "source": [
    "b"
   ]
  },
  {
   "cell_type": "code",
   "execution_count": 64,
   "id": "dc4a2b56",
   "metadata": {},
   "outputs": [
    {
     "data": {
      "text/plain": [
       "[3, 4, 5, 'mohi']"
      ]
     },
     "execution_count": 64,
     "metadata": {},
     "output_type": "execute_result"
    }
   ],
   "source": [
    "c"
   ]
  },
  {
   "cell_type": "code",
   "execution_count": 65,
   "id": "b5502b02",
   "metadata": {},
   "outputs": [
    {
     "data": {
      "text/plain": [
       "(3, 4, 5, 6)"
      ]
     },
     "execution_count": 65,
     "metadata": {},
     "output_type": "execute_result"
    }
   ],
   "source": [
    "d"
   ]
  },
  {
   "cell_type": "code",
   "execution_count": 66,
   "id": "448f7b63",
   "metadata": {},
   "outputs": [],
   "source": [
    "a = 1\n",
    "b = 3\n",
    "c = \"mohi\""
   ]
  },
  {
   "cell_type": "code",
   "execution_count": 67,
   "id": "0fdd7956",
   "metadata": {},
   "outputs": [],
   "source": [
    "a,b,c = 1,3,\"mohi\""
   ]
  },
  {
   "cell_type": "code",
   "execution_count": 68,
   "id": "d28e7c06",
   "metadata": {},
   "outputs": [],
   "source": [
    "def test8():\n",
    "    a = 4*5+8\n",
    "    return a\n"
   ]
  },
  {
   "cell_type": "code",
   "execution_count": 69,
   "id": "2b313311",
   "metadata": {},
   "outputs": [
    {
     "data": {
      "text/plain": [
       "36"
      ]
     },
     "execution_count": 69,
     "metadata": {},
     "output_type": "execute_result"
    }
   ],
   "source": [
    "test8() + 8"
   ]
  },
  {
   "cell_type": "code",
   "execution_count": 70,
   "id": "b93949c7",
   "metadata": {},
   "outputs": [
    {
     "data": {
      "text/plain": [
       "int"
      ]
     },
     "execution_count": 70,
     "metadata": {},
     "output_type": "execute_result"
    }
   ],
   "source": [
    "type(test8())"
   ]
  },
  {
   "cell_type": "code",
   "execution_count": 71,
   "id": "12d3802e",
   "metadata": {},
   "outputs": [],
   "source": [
    "def test9():\n",
    "    l = [2,3,4,5,6,7,8,9,\"mohi\"]\n",
    "    a = 0\n",
    "    for i in l:\n",
    "        if type(i) == int:\n",
    "            a = i+a\n",
    "    return a"
   ]
  },
  {
   "cell_type": "code",
   "execution_count": 72,
   "id": "fcc80fc1",
   "metadata": {},
   "outputs": [
    {
     "data": {
      "text/plain": [
       "44"
      ]
     },
     "execution_count": 72,
     "metadata": {},
     "output_type": "execute_result"
    }
   ],
   "source": [
    "test9()"
   ]
  },
  {
   "cell_type": "code",
   "execution_count": 73,
   "id": "ad127d93",
   "metadata": {},
   "outputs": [
    {
     "data": {
      "text/plain": [
       "5"
      ]
     },
     "execution_count": 73,
     "metadata": {},
     "output_type": "execute_result"
    }
   ],
   "source": [
    "len(\"mohit\")"
   ]
  },
  {
   "cell_type": "code",
   "execution_count": 74,
   "id": "336da4f8",
   "metadata": {},
   "outputs": [
    {
     "data": {
      "text/plain": [
       "3"
      ]
     },
     "execution_count": 74,
     "metadata": {},
     "output_type": "execute_result"
    }
   ],
   "source": [
    "len([3,4,5])"
   ]
  },
  {
   "cell_type": "code",
   "execution_count": 75,
   "id": "90d5ffba",
   "metadata": {},
   "outputs": [],
   "source": [
    "l1 = [4,5,6,7,7,8,\"kumar\",4.56]"
   ]
  },
  {
   "cell_type": "code",
   "execution_count": 76,
   "id": "6c838ed4",
   "metadata": {},
   "outputs": [],
   "source": [
    "def test10(l1):\n",
    "    l = [2,3,4,5,6,7,8,9,\"mohi\"]\n",
    "    a = 0\n",
    "    for i in l1:\n",
    "        if type(i) == int:\n",
    "            a = i+a\n",
    "    return a"
   ]
  },
  {
   "cell_type": "code",
   "execution_count": 77,
   "id": "dc526906",
   "metadata": {},
   "outputs": [
    {
     "data": {
      "text/plain": [
       "37"
      ]
     },
     "execution_count": 77,
     "metadata": {},
     "output_type": "execute_result"
    }
   ],
   "source": [
    "test10(l1)"
   ]
  },
  {
   "cell_type": "code",
   "execution_count": 78,
   "id": "ab1426b1",
   "metadata": {},
   "outputs": [],
   "source": [
    "def test11(a,b):\n",
    "    return a+b "
   ]
  },
  {
   "cell_type": "code",
   "execution_count": 79,
   "id": "2b9e592e",
   "metadata": {},
   "outputs": [
    {
     "data": {
      "text/plain": [
       "5"
      ]
     },
     "execution_count": 79,
     "metadata": {},
     "output_type": "execute_result"
    }
   ],
   "source": [
    "test11(2,3)"
   ]
  },
  {
   "cell_type": "code",
   "execution_count": 80,
   "id": "d8655032",
   "metadata": {},
   "outputs": [
    {
     "data": {
      "text/plain": [
       "'mohityadav'"
      ]
     },
     "execution_count": 80,
     "metadata": {},
     "output_type": "execute_result"
    }
   ],
   "source": [
    "test11(\"mohit\",\"yadav\")"
   ]
  },
  {
   "cell_type": "code",
   "execution_count": 81,
   "id": "56f5393b",
   "metadata": {},
   "outputs": [
    {
     "data": {
      "text/plain": [
       "12"
      ]
     },
     "execution_count": 81,
     "metadata": {},
     "output_type": "execute_result"
    }
   ],
   "source": [
    "test11(a=7,b=5)"
   ]
  },
  {
   "cell_type": "code",
   "execution_count": 82,
   "id": "e3281141",
   "metadata": {},
   "outputs": [
    {
     "data": {
      "text/plain": [
       "13"
      ]
     },
     "execution_count": 82,
     "metadata": {},
     "output_type": "execute_result"
    }
   ],
   "source": [
    "test11(b=8,a=5)"
   ]
  },
  {
   "cell_type": "code",
   "execution_count": 83,
   "id": "56255549",
   "metadata": {},
   "outputs": [],
   "source": [
    "l = [3,4,5,6,7,8,\"mohi\",5,6,7,\"yadav\",\"ineuron\"]"
   ]
  },
  {
   "cell_type": "code",
   "execution_count": 84,
   "id": "e5e6c8f1",
   "metadata": {},
   "outputs": [],
   "source": [
    "def test12(l):\n",
    "    \"\"\"this is my function which help you to seperate a string from list into new list \"\"\"\n",
    "    l1 = []\n",
    "    for i in l:\n",
    "        if type(i) == str:\n",
    "            l1.append(i)\n",
    "    return l1"
   ]
  },
  {
   "cell_type": "code",
   "execution_count": 85,
   "id": "c522c204",
   "metadata": {},
   "outputs": [
    {
     "data": {
      "text/plain": [
       "['mohi', 'yadav', 'ineuron']"
      ]
     },
     "execution_count": 85,
     "metadata": {},
     "output_type": "execute_result"
    }
   ],
   "source": [
    "test12(l)"
   ]
  },
  {
   "cell_type": "code",
   "execution_count": 86,
   "id": "4448c20d",
   "metadata": {},
   "outputs": [],
   "source": [
    "l2 = [\"fsfda\", \"fsdf\", \"abc\" ,456 , 56]"
   ]
  },
  {
   "cell_type": "code",
   "execution_count": 87,
   "id": "916dadd3",
   "metadata": {},
   "outputs": [
    {
     "data": {
      "text/plain": [
       "['fsfda', 'fsdf', 'abc']"
      ]
     },
     "execution_count": 87,
     "metadata": {},
     "output_type": "execute_result"
    }
   ],
   "source": [
    "test12(l2)"
   ]
  },
  {
   "cell_type": "code",
   "execution_count": 88,
   "id": "d9d02cdc",
   "metadata": {},
   "outputs": [
    {
     "data": {
      "text/plain": [
       "5"
      ]
     },
     "execution_count": 88,
     "metadata": {},
     "output_type": "execute_result"
    }
   ],
   "source": [
    "len(\"mohit\")"
   ]
  },
  {
   "cell_type": "code",
   "execution_count": 89,
   "id": "9628016d",
   "metadata": {},
   "outputs": [
    {
     "name": "stdout",
     "output_type": "stream",
     "text": [
      "\n"
     ]
    }
   ],
   "source": [
    "print()"
   ]
  },
  {
   "cell_type": "code",
   "execution_count": null,
   "id": "a4ff4352",
   "metadata": {},
   "outputs": [],
   "source": []
  },
  {
   "cell_type": "code",
   "execution_count": 90,
   "id": "602f3bca",
   "metadata": {},
   "outputs": [
    {
     "ename": "SyntaxError",
     "evalue": "unterminated string literal (detected at line 11) (786221514.py, line 11)",
     "output_type": "error",
     "traceback": [
      "\u001b[0;36m  Cell \u001b[0;32mIn [90], line 11\u001b[0;36m\u001b[0m\n\u001b[0;31m    \"\"\"\"\u001b[0m\n\u001b[0m       ^\u001b[0m\n\u001b[0;31mSyntaxError\u001b[0m\u001b[0;31m:\u001b[0m unterminated string literal (detected at line 11)\n"
     ]
    }
   ],
   "source": [
    " \"\"\"\"\n",
    "1. write a function which try to find out len of a string without using as inbuilt len function.\n",
    "2. write a function which will be able to print as index of list element without using index function.\n",
    "3. write a function which will be able to print an ip address of your system.\n",
    "4. write a function which will shut down your system\n",
    "5. write a function which will take input as a list with any kind of numeric value and give as out as a multiplication of\n",
    "   all the numeric data l = [3.5 ,6.56 , 4,5,\"mohi\", \"inueron\", \"fsda bootcamp 2.0\"]\n",
    "6. write a function whiich will be able to read all the mails\n",
    "7. write a function which will be able to send a mail to anyone\n",
    "8. write a function which will be able to read a doc file from your system\n",
    "\"\"\"\""
   ]
  },
  {
   "cell_type": "code",
   "execution_count": 91,
   "id": "bde75deb",
   "metadata": {},
   "outputs": [],
   "source": [
    "# 1. write a function which try to find out len of a string without using as inbuilt len function.\n",
    "\n",
    "def test(s):\n",
    "    \"\"\" this is a prog which will help to find a length of string\"\"\"\n",
    "    count = 0\n",
    "    for i in s:\n",
    "       # if type(i) == str:\n",
    "            count = count + 1\n",
    "    return count"
   ]
  },
  {
   "cell_type": "code",
   "execution_count": 92,
   "id": "6a11deaa",
   "metadata": {},
   "outputs": [
    {
     "data": {
      "text/plain": [
       "5"
      ]
     },
     "execution_count": 92,
     "metadata": {},
     "output_type": "execute_result"
    }
   ],
   "source": [
    "test(\"mohit\")"
   ]
  },
  {
   "cell_type": "code",
   "execution_count": 93,
   "id": "dfd35258",
   "metadata": {},
   "outputs": [],
   "source": [
    "# 2. write a function which will be able to print as index of list element without using index function.\n",
    "l = [1,2,3,4,\"mohi\",\"ineuron\"]"
   ]
  },
  {
   "cell_type": "code",
   "execution_count": 94,
   "id": "6d082cd6",
   "metadata": {},
   "outputs": [],
   "source": [
    "def test1(li):\n",
    "    for i in range(0,len(li)):\n",
    "        print(li[i] , \":\" , i)"
   ]
  },
  {
   "cell_type": "code",
   "execution_count": 95,
   "id": "72aee59d",
   "metadata": {},
   "outputs": [
    {
     "name": "stdout",
     "output_type": "stream",
     "text": [
      "1 : 0\n",
      "2 : 1\n",
      "3 : 2\n",
      "4 : 3\n",
      "mohi : 4\n",
      "ineuron : 5\n"
     ]
    }
   ],
   "source": [
    "test1(l)"
   ]
  },
  {
   "cell_type": "code",
   "execution_count": 96,
   "id": "5675b7f9",
   "metadata": {},
   "outputs": [],
   "source": [
    "# 3. write a function which will be able to print an ip address of your system."
   ]
  },
  {
   "cell_type": "code",
   "execution_count": 97,
   "id": "96256959",
   "metadata": {},
   "outputs": [],
   "source": [
    "import socket\n",
    "def test2():\n",
    "    ip = socket.gethostbyname(socket.gethostname())\n",
    "    return ip"
   ]
  },
  {
   "cell_type": "code",
   "execution_count": 98,
   "id": "4de04e9a",
   "metadata": {},
   "outputs": [
    {
     "data": {
      "text/plain": [
       "'172.18.0.14'"
      ]
     },
     "execution_count": 98,
     "metadata": {},
     "output_type": "execute_result"
    }
   ],
   "source": [
    "test2()"
   ]
  },
  {
   "cell_type": "code",
   "execution_count": 99,
   "id": "0d7d0daa",
   "metadata": {},
   "outputs": [
    {
     "name": "stderr",
     "output_type": "stream",
     "text": [
      "sh: 1: shutdown: not found\n"
     ]
    },
    {
     "data": {
      "text/plain": [
       "32512"
      ]
     },
     "execution_count": 99,
     "metadata": {},
     "output_type": "execute_result"
    }
   ],
   "source": [
    "# 4. write a function which will shut down your system\n",
    "import os\n",
    "os.system(\"shutdown /s /t 4\")\n",
    "\n",
    "# /s - shutdown\n",
    "# /r - restart\n",
    "# /t - timer"
   ]
  },
  {
   "cell_type": "code",
   "execution_count": 100,
   "id": "f221bcae-24eb-4b1a-b501-bc196908e6dc",
   "metadata": {},
   "outputs": [],
   "source": [
    "# 5. write a function which will take input as a list with any kind of numeric value and give as out as a \n",
    "# multiplication of all the numeric data l = [3.5 ,6.56 , 4,5,\"mohi\", \"inueron\", \"fsda bootcamp 2.0\"]"
   ]
  },
  {
   "cell_type": "code",
   "execution_count": 101,
   "id": "609aef2b-e478-4210-9ebc-aaf5c5129432",
   "metadata": {},
   "outputs": [],
   "source": [
    "l = [3.5 ,6.56 , 4,5,\"mohi\", \"inueron\", \"fsda bootcamp 2.0\"]\n",
    "def test3(l):\n",
    "    mul = 1\n",
    "    for i in l:\n",
    "        if type(i) == int or type(i) == float:\n",
    "            mul = mul * i\n",
    "    return mul"
   ]
  },
  {
   "cell_type": "code",
   "execution_count": 102,
   "id": "68ca368e-4dfa-4c96-98e9-7b7897b12b59",
   "metadata": {},
   "outputs": [
    {
     "data": {
      "text/plain": [
       "459.19999999999993"
      ]
     },
     "execution_count": 102,
     "metadata": {},
     "output_type": "execute_result"
    }
   ],
   "source": [
    "test3(l)"
   ]
  },
  {
   "cell_type": "code",
   "execution_count": 103,
   "id": "ff12f257-9712-48e5-ad2b-73e293e0a74a",
   "metadata": {},
   "outputs": [
    {
     "name": "stdout",
     "output_type": "stream",
     "text": [
      "From : \"Ritu\" <info@amyq.formirror.com>\n",
      "\n",
      "Subject : My 4-year-old's life can be saved by a liver transplant,I need\n",
      " your help!\n",
      "\n",
      "From : \"Readers Digest\" <info@taxkip.com>\n",
      "\n",
      "Subject : The information inside can transform your life!\n",
      "\n",
      "From : Twitter <info@twitter.com>\n",
      "\n",
      "Subject : =?UTF-8?Q?Raj_Nayak_Tweeted:_Caption_this_video=F0=9F=91=87=F0=9F=8F=BC?=\n",
      "\n",
      "From : Skill-Lync <mailer@skill-lync.com>\n",
      "\n",
      "Subject : YOUR FREE WORKSHOP BEGINS SOON! Data Analytics and Business\n",
      " Intelligence - Hands-on\n",
      "\n",
      "From : Myntra <updates@myntra.com>\n",
      "\n",
      "Subject : =?UTF-8?Q?ALERT_=E2=9A=A0=EF=B8=8F_Discount_Season_Ahead_=F0=9F=92=B0?=\n",
      "\n",
      "From : LinkedIn <messages-noreply@linkedin.com>\n",
      "\n",
      "Subject : People who follow sudhanshu kumar also follow these creators\n",
      "\n",
      "From : University of Arizona Team at Great Learning <mail@timesjobs.com>\n",
      "\n",
      "Subject : Launch Your Dream Career in the United States with top global\n",
      " companies- Save upto INR 55 Lakhs | Get Started\n",
      "\n",
      "From : Quora Digest <english-personalized-digest@quora.com>\n",
      "\n",
      "Subject : =?utf-8?q?What_is_it_like_to_earn_60-70_LPA_in_India=3F?=\n",
      "\n",
      "From : Glassdoor Recommendations <noreply@glassdoor.com>\n",
      "\n",
      "Subject : You look like a good fit for the job at Naidu Hall Family Store.\n",
      " Apply now.\n",
      "\n",
      "From : \" Work\" <Listings@drabneedle.com>\n",
      "\n",
      "Subject : GREATER NOIDA: Immediate Employment\n",
      "\n",
      "From : Lifestyle Stores <alert@info.lifestylestores.com>\n",
      "\n",
      "Subject : Get 2nd at =?UTF-8?B?4oK5MSHwn5uN77iP?= Don't Miss This Deal!\n",
      "\n",
      "From : \"Personal Loan\" <newsletter@bookpdf.co.in>\n",
      "\n",
      "Subject : Money will be transferred to your account with in 24* hrs.\n",
      "\n",
      "From : \"Talent Acquisition\" <preeti@careersplus.co.in>\n",
      "\n",
      "Subject : Attention: Profile Shortlisted @Adidas\n",
      "\n",
      "From : \"Akshaya Tritiya\" <newsletters@fashiongup.in>\n",
      "\n",
      "Subject : mohityadav0911@gmail.com, The Day of Endless Blessings and Good Fortune\n",
      "\n",
      "From : \"Navi Loan\" <info@amyq.formirror.com>\n",
      "\n",
      "Subject : Get Instant Approval on Personal Loan!\n",
      "\n",
      "From : TimesJobs Job Alert <jobalert@timesjobs.com>\n",
      "\n",
      "Subject : International location jobs you may be interested in\n",
      "\n",
      "From : =?UTF-8?B?QlNFIEFMRVJUUw==?= <info@bseindia.in>\n",
      "\n",
      "Subject : =?UTF-8?B?RnVuZHMgLyBTZWN1cml0aWVzIEJhbGFuY2U=?=\n",
      "\n",
      "From : \"Pooja\" <newsletters@shopatbest.com>\n",
      "\n",
      "Subject : Congrats, Rs.87000 Pension Every Month.\n",
      "\n",
      "From : \"Mudra Loan Yojana\" <newsletters@fashiongup.in>\n",
      "\n",
      "Subject : mohityadav0911@gmail.com, NOTICE: Business loan Rs.58,55,000 is ready to sanctioned\n",
      "\n",
      "From : \"IPL Match\" <newsletters@shopatbest.com>\n",
      "\n",
      "Subject : mohityadav0911@gmail.com, Win Rs.1 Crore\n",
      "\n",
      "From : \"IDFC First Bank\" <newsletters@shopatbest.com>\n",
      "\n",
      "Subject : mohityadav0911@gmail.com, We found a card best suited for you.\n",
      "\n",
      "From : TimesJobs Research <mail@timesjobs.com>\n",
      "\n",
      "Subject : Hi Mohit, Saudi Arabia introduces 3-month temporary work visa for\n",
      " foreign workers\n",
      "\n",
      "From : \"Adidas SALE\" <newsletter@bookpdf.co.in>\n",
      "\n",
      "Subject : =?UTF-8?q?SALE_On_Adidas_Shoes_And_Get_Free_Delivery=E2=80=93_Flat_50%_OF?=\n",
      " =?UTF-8?q?F?=\n",
      "\n",
      "From : \"Jhanvi\" <newsletters@shopatbest.com>\n",
      "\n",
      "Subject : Your Rs.28,53,500 can Be Transferred Directly to your A/C.\n",
      "\n",
      "From : \"Credit Card\" <newsletters@shopatbest.com>\n",
      "\n",
      "Subject : mohityadav0911@gmail.com, Get Power of 4 cards in 1\n",
      "\n",
      "From : T & M Services Consulting Private Limited\n",
      " <opportunities@monsterindia.com>\n",
      "\n",
      "Subject : Urgent opening | Uttarakhand Health System Development Project |\n",
      " upto 7,00,000 at T&M Services Consulting Pvt. Ltd. (Contract Basis)\n",
      " (Source: foundit)\n",
      "\n",
      "From : \"Soumya Jain\" <newsletters@shopatbest.com>\n",
      "\n",
      "Subject : mohityadav0911@gmail.com, Your Profile is shortlisted.\n",
      "\n",
      "From : \"ICICI Bank Home Loans\" <info@amyq.formirror.com>\n",
      "\n",
      "Subject : Simplified process for Home Loan\n",
      "\n",
      "From : \"OLX (Inspection Dept.)\" <newsletter@bookpdf.co.in>\n",
      "\n",
      "Subject : Evaluate Your Car and Sell it through OLX Autos\n",
      "\n",
      "From : \"Talent.com\" <no-reply@alerts.talent.com>\n",
      "\n",
      "Subject : This position is for you\n",
      "\n",
      "From : Deakin University <mail@timesjobs.com>\n",
      "\n",
      "Subject : Gain global credentials from 2 Top Universities | Apply for Master\n",
      " of Data Science (Global)\n",
      "\n",
      "From : Skill-Lync <mailer@skill-lync.in>\n",
      "\n",
      "Subject : Access free resources worth INR 10 lakh | Grow by Skill-Lync\n",
      "\n",
      "From : \"Kotak Securities Ltd.\" <newsletters@shopatbest.com>\n",
      "\n",
      "Subject : Start trading, Brokerage is on us! Open Kotak Securities demat a/c and enjoy ZERO Brokerage plans.\n",
      "\n",
      "From : \"Bajaj Finserv\" <newsletters@shopatbest.com>\n",
      "\n",
      "Subject : mohityadav0911@gmail.com, Apply for an instant credit card\n",
      "\n",
      "From : \"Lifetime Free Credit Cards\" <newsletters@fashiongup.in>\n",
      "\n",
      "Subject : Your Credit Card XXXX-9876-XXXX-1234 ,approved Limit Upto Rs.5,00,000\n",
      "\n",
      "From : \"Avantika\" <newsletters@shopatbest.com>\n",
      "\n",
      "Subject : Interview Scheduled!\n",
      "\n",
      "From : \"KYC Verification\" <newsletters@shopatbest.com>\n",
      "\n",
      "Subject : Your Free Trading A/C Can Be Generated*\n",
      "\n",
      "From : Great Learning <mail@timesjobs.com>\n",
      "\n",
      "Subject : mohit yadav, Upskill with IIIT Hyderabad's PG Certificate in\n",
      " Software Engineering for Data Science\n",
      "\n",
      "From : Loyal Infoservices Private Limited <opportunities@monsterindia.com>\n",
      "\n",
      "Subject : Urgent opening | Sales Executive - Personal Care Ingrediants -\n",
      " North | CTC 5,00,000 to 5,00,000  Indian Rupees at A Reputed Manufacturing\n",
      " Company (Source: foundit)\n",
      "\n",
      "From : \"Nibedita from SSBM\" <newsletters@shopatbest.com>\n",
      "\n",
      "Subject : mohityadav0911@gmail.com, Apply for MBA in Data Science from Swiss School of Business Management, Geneva\n",
      "\n",
      "From : \"DhanLAP\" <newsletters@shopatbest.com>\n",
      "\n",
      "Subject : Need Cash? Pledge Your Mutual Funds and Keep Your Portfolio Intact\n",
      "\n",
      "From : \"21/04/2023\" <Listings@drabneedle.com>\n",
      "\n",
      "Subject : Immediate Help Requested\n",
      "\n",
      "From : rachita.agrawal@naukri.com\n",
      "\n",
      "Subject : Congrats Mohit Yadav. You can now boost your Sales Exec./Officer jobsearch with flat 30% discount by Naukri\n",
      "\n",
      "From : \"Ritika\" <newsletters@shopatbest.com>\n",
      "\n",
      "Subject : mohityadav0911@gmail.com, Get iphone 14 Pro Max* on Membership.\n",
      "\n",
      "From : \"ICICI Bank HL\" <newsletter@bookpdf.co.in>\n",
      "\n",
      "Subject : Welcome to, Save on EMI with ICICI bank home loan\n",
      "\n",
      "From : \"Amazon Shares\" <newsletters@shopatbest.com>\n",
      "\n",
      "Subject : mohityadav0911@gmail.com, Earn $800 in less than a week\n",
      "\n",
      "From : \"adidas\" <info@amyq.formirror.com>\n",
      "\n",
      "Subject : Receive Upto 60% OFF plus an additional 15% off!\n",
      "\n",
      "From : \"Credit Card Online\" <newsletters@shopatbest.com>\n",
      "\n",
      "Subject : Unlimited Cashback and more with AU Credit Cards\n",
      "\n",
      "From : \"Shriram Finance Limited\" <info@amyq.formirror.com>\n",
      "\n",
      "Subject : Start your Investment journey today!\n",
      "\n",
      "From : Twitter <info@twitter.com>\n",
      "\n",
      "Subject : =?UTF-8?Q?Raj_Nayak_Tweeted:_RT_@kaushikcbasu?=\n",
      " =?UTF-8?Q?:_It=E2=80=99s_embarrassing_to_have_a_blu...?=\n",
      "\n",
      "From : \"BOB CC\" <info@taxkip.com>\n",
      "\n",
      "Subject : Activate your Bank of Baroda credit card now\n",
      "\n",
      "From : TimesJobs Job Alert <jobalert@timesjobs.com>\n",
      "\n",
      "Subject : Mohit: TandA HR Solutions jobs for you\n",
      "\n",
      "From : \"Home Loans\" <newsletters@shopatbest.com>\n",
      "\n",
      "Subject : mohityadav0911@gmail.com, Check Your Eligibility To Get Rs.75 Lacs\n",
      "\n",
      "From : TimesJobs Job Alert <jobalert@timesjobs.com>\n",
      "\n",
      "Subject : New matching job posted for you\n",
      "\n",
      "From : \"MSME Loans\" <newsletters@shopatbest.com>\n",
      "\n",
      "Subject : mohityadav0911@gmail.com, Notice: Mudra Loan Sanction Of Rs.98,99,000/-\n",
      "\n",
      "From : \"Today's Horoscope\" <newsletters@shopatbest.com>\n",
      "\n",
      "Subject : Horoscope Today: Astrological prediction for April 22, 2023\n",
      "\n",
      "From : Quikr Jobs <emailalerts@jobs.quikr.com>\n",
      "\n",
      "Subject : New Data Entry /Back Office jobs for you in\n",
      " Mohali - Apr 22. Apply now\n",
      "\n",
      "From : \"ITR Filing Update\" <newsletters@shopatbest.com>\n",
      "\n",
      "Subject : Good news for taxpayers! Now filing ITR before July 31 will get these benefits.\n",
      "\n",
      "From : \"CC Activated\" <newsletter@bookpdf.co.in>\n",
      "\n",
      "Subject : =?UTF-8?q?Take_your_credit_card_with_=E2=82=B970000_limit?=\n",
      "\n",
      "From : \"Axis Bank Credit Card\" <newsletters@fashiongup.in>\n",
      "\n",
      "Subject : mohityadav0911@gmail.com, Complimentary 1 Year Subscription Worth Rs.999  On Ist Transaction\n",
      "\n",
      "From : \"Whatsapp Update\" <newsletters@fashiongup.in>\n",
      "\n",
      "Subject : WhatsApp Introduces Redesigned Keyboard- Faster And Smarter Keyboard\n",
      "\n",
      "From : =?UTF-8?B?UGxhY2VtZW50SW5kaWEuY29t?= <noreply@placementindia.com>\n",
      "\n",
      "Subject : =?UTF-8?B?TWFrZSBZb3VyIFByb2ZpbGUgU3Ryb25nZXIgd2l0aCBhIFJlbW9kZWxlZCBSZXN1bWU=?=\n",
      "\n",
      "From : Medium Daily Digest <noreply@medium.com>\n",
      "\n",
      "Subject : How to calculate the measure of dispersion in both Python and R |\n",
      " Tracyrenee in Geek Culture\n",
      "\n",
      "From : \"Coursera\" <Coursera@email.coursera.org>\n",
      "\n",
      "Subject : Get started with your Master of Applied Data Science today\n",
      "\n",
      "From : \"Indeed\" <alert@indeed.com>\n",
      "\n",
      "Subject : Apply to jobs at Adroitec Information Systems Pvt. Ltd, ARORA ENGINEERING WORKS and CORE MINDS TECH SOLUTIONS \n",
      "\n",
      "From : Glassdoor Jobs <noreply@glassdoor.com>\n",
      "\n",
      "Subject : Marketing Analyst at Infosys and 17 more jobs in Bangalore for you.\n",
      " Apply Now.\n",
      "\n",
      "From : Glassdoor Jobs <noreply@glassdoor.com>\n",
      "\n",
      "Subject : Senior Accountant at Singhi Group Of Companies and 16 more jobs in\n",
      " Noida for you. Apply Now.\n",
      "\n",
      "'utf-8' codec can't decode byte 0xa0 in position 7075: invalid start byte\n"
     ]
    },
    {
     "name": "stderr",
     "output_type": "stream",
     "text": [
      "Traceback (most recent call last):\n",
      "  File \"/tmp/ipykernel_145/2584997047.py\", line 32, in read_email_from_gmail\n",
      "    msg = email.message_from_string(str(arr[1],'utf-8'))\n",
      "UnicodeDecodeError: 'utf-8' codec can't decode byte 0xa0 in position 7075: invalid start byte\n"
     ]
    }
   ],
   "source": [
    "# 6. write a function whiich will be able to read all the mails\n",
    "\n",
    "import smtplib\n",
    "import time\n",
    "import imaplib\n",
    "import email\n",
    "import traceback \n",
    "ORG_EMAIL = \"@gmail.com\" \n",
    "FROM_EMAIL = 'mohityadav0911@gmail.com'\n",
    "FROM_PWD = 'svexumyhdnsckadt'\n",
    "SMTP_SERVER = \"imap.gmail.com\" \n",
    "SMTP_PORT = 993\n",
    "imaplib._MAXLINE = 400000000\n",
    "\n",
    "def read_email_from_gmail():\n",
    "    try:\n",
    "        mail = imaplib.IMAP4_SSL(SMTP_SERVER)\n",
    "        mail.login(FROM_EMAIL,FROM_PWD)\n",
    "        mail.select('inbox')\n",
    "\n",
    "        data = mail.search(None, 'ALL')\n",
    "        mail_ids = data[1]\n",
    "        id_list = mail_ids[0].split()   \n",
    "        first_email_id = int(id_list[0])\n",
    "        latest_email_id = int(id_list[-1])\n",
    "\n",
    "        for i in range(latest_email_id,first_email_id, -1):\n",
    "            data = mail.fetch(str(i), '(RFC822)' )\n",
    "            for response_part in data:\n",
    "                arr = response_part[0]\n",
    "                if isinstance(arr, tuple):\n",
    "                    msg = email.message_from_string(str(arr[1],'utf-8'))\n",
    "                    email_subject = msg['subject']\n",
    "                    email_from = msg['from']\n",
    "                    print('From : ' + email_from + '\\n')\n",
    "                    print('Subject : ' + email_subject + '\\n')\n",
    "\n",
    "    except Exception as e:\n",
    "        traceback.print_exc() \n",
    "        print(str(e))\n",
    "\n",
    "read_email_from_gmail()"
   ]
  },
  {
   "cell_type": "code",
   "execution_count": 104,
   "id": "e928f4fb-51d6-403f-8466-533b6335d7b6",
   "metadata": {},
   "outputs": [],
   "source": [
    "# 7. write a function which will be able to send a mail to anyone\n",
    "\n",
    "#( smtplib =simple  mail transfer protocol library , ssl = secured servour)\n",
    "import smtplib\n",
    "import ssl\n",
    "\n",
    "\n",
    "port = 465  # For SSL\n",
    "smtp_server = \"smtp.gmail.com\"\n",
    "sender_email = \"mohityadav0911@gmail.com\"  \n",
    "receiver_email = \"sweta.yadav8865@gmail.com\" \n",
    "password = \"svexumyhdnsckadt\" \n",
    "message = \"this is my message from python code in my live class\"\n",
    "\n",
    "context = ssl.create_default_context()\n",
    "with smtplib.SMTP_SSL(smtp_server, port, context=context) as server:\n",
    "    server.login(sender_email, password)\n",
    "    server.sendmail(sender_email, receiver_email, message)"
   ]
  },
  {
   "cell_type": "code",
   "execution_count": 105,
   "id": "45b07d40-8254-44b6-acd1-db589f7020a2",
   "metadata": {},
   "outputs": [],
   "source": [
    "#8. write a function which will be able to read a doc file from your system"
   ]
  },
  {
   "cell_type": "code",
   "execution_count": 110,
   "id": "27024161-b8a7-484b-bc37-887d8be17c92",
   "metadata": {},
   "outputs": [
    {
     "name": "stdout",
     "output_type": "stream",
     "text": [
      "Requirement already satisfied: docx2txt in /opt/conda/lib/python3.10/site-packages (0.8)\n",
      "Note: you may need to restart the kernel to use updated packages.\n"
     ]
    }
   ],
   "source": [
    "pip install docx2txt"
   ]
  },
  {
   "cell_type": "code",
   "execution_count": 111,
   "id": "aefa1943-ced2-4258-ac19-f2da0d5ad893",
   "metadata": {},
   "outputs": [],
   "source": [
    "import docx2txt"
   ]
  },
  {
   "cell_type": "code",
   "execution_count": 112,
   "id": "1280941c-cfdd-4d0c-9115-ff5bb3b569ad",
   "metadata": {},
   "outputs": [
    {
     "name": "stdout",
     "output_type": "stream",
     "text": [
      "import smtplib\n",
      "\n",
      "import ssl\n",
      "\n",
      "\n",
      "\n",
      "\n",
      "\n",
      "port = 465  # For SSL\n",
      "\n",
      "smtp_server = \"smtp.gmail.com\"\n",
      "\n",
      "sender_email = \"mohityadav0911@gmail.com\"  \n",
      "\n",
      "receiver_email = \"sweta.yadav8865@gmail.com\" \n",
      "\n",
      "password = \"svexumyhdnsckadt\" \n",
      "\n",
      "message = \"this is my message from python code in my live class\"\n",
      "\n",
      "\n",
      "\n",
      "context = ssl.create_default_context()\n",
      "\n",
      "with smtplib.SMTP_SSL(smtp_server, port, context=context) as server:\n",
      "\n",
      "    server.login(sender_email, password)\n",
      "\n",
      "    server.sendmail(sender_email, receiver_email, message)\n",
      "\n",
      "\n",
      "\n",
      "import smtplib\n",
      "\n",
      "import time\n",
      "\n",
      "import imaplib\n",
      "\n",
      "import email\n",
      "\n",
      "import traceback \n",
      "\n",
      "ORG_EMAIL = \"@gmail.com\" \n",
      "\n",
      "FROM_EMAIL = 'mohityadav0911@gmail.com'\n",
      "\n",
      "FROM_PWD = 'svexumyhdnsckadt'\n",
      "\n",
      "SMTP_SERVER = \"imap.gmail.com\" \n",
      "\n",
      "SMTP_PORT = 993\n",
      "\n",
      "imaplib._MAXLINE = 400000000\n",
      "\n",
      "\n",
      "\n",
      "def read_email_from_gmail():\n",
      "\n",
      "    try:\n",
      "\n",
      "        mail = imaplib.IMAP4_SSL(SMTP_SERVER)\n",
      "\n",
      "        mail.login(FROM_EMAIL,FROM_PWD)\n",
      "\n",
      "        mail.select('inbox')\n",
      "\n",
      "\n",
      "\n",
      "        data = mail.search(None, 'ALL')\n",
      "\n",
      "        mail_ids = data[1]\n",
      "\n",
      "        id_list = mail_ids[0].split()   \n",
      "\n",
      "        first_email_id = int(id_list[0])\n",
      "\n",
      "        latest_email_id = int(id_list[-1])\n",
      "\n",
      "\n",
      "\n",
      "        for i in range(latest_email_id,first_email_id, -1):\n",
      "\n",
      "            data = mail.fetch(str(i), '(RFC822)' )\n",
      "\n",
      "            for response_part in data:\n",
      "\n",
      "                arr = response_part[0]\n",
      "\n",
      "                if isinstance(arr, tuple):\n",
      "\n",
      "                    msg = email.message_from_string(str(arr[1],'utf-8'))\n",
      "\n",
      "                    email_subject = msg['subject']\n",
      "\n",
      "                    email_from = msg['from']\n",
      "\n",
      "                    print('From : ' + email_from + '\\n')\n",
      "\n",
      "                    print('Subject : ' + email_subject + '\\n')\n",
      "\n",
      "\n",
      "\n",
      "    except Exception as e:\n",
      "\n",
      "        traceback.print_exc() \n",
      "\n",
      "        print(str(e))\n",
      "\n",
      "\n",
      "\n",
      "read_email_from_gmail()\n"
     ]
    }
   ],
   "source": [
    "a = docx2txt.process(\"test.docx\")\n",
    "print(a)"
   ]
  },
  {
   "cell_type": "code",
   "execution_count": null,
   "id": "6fef3d09-9a36-4c36-b966-4279d614a7f8",
   "metadata": {},
   "outputs": [],
   "source": []
  },
  {
   "cell_type": "code",
   "execution_count": null,
   "id": "52e9b85c-d528-4155-bbdc-289006a07b8e",
   "metadata": {},
   "outputs": [],
   "source": []
  },
  {
   "cell_type": "code",
   "execution_count": null,
   "id": "424fc5bf-ff21-4eab-b823-3687be7a6bb7",
   "metadata": {},
   "outputs": [],
   "source": []
  }
 ],
 "metadata": {
  "kernelspec": {
   "display_name": "Python 3 (ipykernel)",
   "language": "python",
   "name": "python3"
  },
  "language_info": {
   "codemirror_mode": {
    "name": "ipython",
    "version": 3
   },
   "file_extension": ".py",
   "mimetype": "text/x-python",
   "name": "python",
   "nbconvert_exporter": "python",
   "pygments_lexer": "ipython3",
   "version": "3.10.6"
  }
 },
 "nbformat": 4,
 "nbformat_minor": 5
}
